{
 "cells": [
  {
   "cell_type": "markdown",
   "metadata": {},
   "source": [
    "# Web Scraping with Python "
   ]
  },
  {
   "cell_type": "markdown",
   "metadata": {},
   "source": [
    "Rendi Dwi Hermawan\n",
    "19 mei 2020\n",
    "Email duck_id@yahoo.com / rendidwih2@gmail.com"
   ]
  },
  {
   "cell_type": "raw",
   "metadata": {},
   "source": [
    "pesan:\n",
    "1.Untuk url kunjugi https://www.bmkg.go.id/cuaca/prakiraan-cuaca-indonesia.bmkg \n",
    "    silahkan pilih provinsi -> nama kota -> lalu salin url ke variabel html\n",
    "    \n",
    "2.contoh web scraping di www.bmkg.go.id mengambil data data seperti:\n",
    "    *waktu\n",
    "    *suhu\n",
    "    *kondisi"
   ]
  },
  {
   "cell_type": "code",
   "execution_count": 1,
   "metadata": {},
   "outputs": [],
   "source": [
    "import requests\n",
    "import pandas as pd\n",
    "from bs4 import BeautifulSoup"
   ]
  },
  {
   "cell_type": "code",
   "execution_count": 60,
   "metadata": {},
   "outputs": [],
   "source": [
    "html = 'https://www.bmkg.go.id/cuaca/prakiraan-cuaca.bmkg?kab=Jakarta&Prov=DKI_Jakarta&AreaID=501195'      #taruh link di antara tanda kutip ''\n",
    "result_csv = 'jakarta.csv'"
   ]
  },
  {
   "cell_type": "code",
   "execution_count": 61,
   "metadata": {},
   "outputs": [],
   "source": [
    "page = requests.get(html)\n",
    "soup = BeautifulSoup(page.content, 'html.parser')\n",
    "place = soup.find(class_='col-md-8 md-margin-bottom-20')\n",
    "week = soup.find(id=\"TabPaneCuaca1\")"
   ]
  },
  {
   "cell_type": "code",
   "execution_count": 62,
   "metadata": {},
   "outputs": [
    {
     "name": "stdout",
     "output_type": "stream",
     "text": [
      "<div class=\"tab-pane fade in active\" id=\"TabPaneCuaca1\">\n",
      "<div class=\"cuaca-flex row no-space-carousel-block\">\n",
      "<div class=\"cuaca-flex-child\">\n",
      "<div class=\"carousel-block-table prakicu-kota bg-cuaca cerah-berawan-malam\">\n",
      "<div class=\"service-block clearfix\">\n",
      "<h2 class=\"kota\">19:00 WIB</h2>\n",
      "<div class=\"kiri\">\n",
      "<img alt=\"\" src=\"../asset/img/weather_icon/ID/hujan sedang-pm.png\"/>\n",
      "<p>Hujan Sedang</p>\n",
      "</div>\n",
      "<div class=\"kanan\">\n",
      "<h2 class=\"heading-md\">27°C</h2>\n",
      "<p><i class=\"wi wi-raindrop\"></i>90 %</p>\n",
      "<p><i class=\"wi wi-strong-wind\"></i>0 km/jam<br/>CALM <i class=\"wi wi-wind wi-from-calm\"></i></p>\n",
      "</div>\n",
      "</div>\n",
      "</div>\n",
      "</div>\n",
      "<div class=\"cuaca-flex-child\">\n",
      "<div class=\"carousel-block-table prakicu-kota bg-cuaca cerah-berawan-malam\">\n",
      "<div class=\"service-block clearfix\">\n",
      "<h2 class=\"kota\">22:00 WIB</h2>\n",
      "<div class=\"kiri\">\n",
      "<img alt=\"\" src=\"../asset/img/weather_icon/ID/berawan-pm.png\"/>\n",
      "<p>Berawan</p>\n",
      "</div>\n",
      "<div class=\"kanan\">\n",
      "<h2 class=\"heading-md\">26°C</h2>\n",
      "<p><i class=\"wi wi-raindrop\"></i>90 %</p>\n",
      "<p><i class=\"wi wi-strong-wind\"></i>10 km/jam<br/>Timur <i class=\"wi wi-wind wi-from-e\"></i></p>\n",
      "</div>\n",
      "</div>\n",
      "</div>\n",
      "</div>\n",
      "</div>\n",
      "</div>\n"
     ]
    }
   ],
   "source": [
    "print(week)"
   ]
  },
  {
   "cell_type": "code",
   "execution_count": 63,
   "metadata": {},
   "outputs": [],
   "source": [
    "items = week.find_all(class_='cuaca-flex-child')\n",
    "condition = week.find_all(class_='kiri')\n"
   ]
  },
  {
   "cell_type": "code",
   "execution_count": 64,
   "metadata": {},
   "outputs": [
    {
     "name": "stdout",
     "output_type": "stream",
     "text": [
      "<div class=\"cuaca-flex-child\">\n",
      "<div class=\"carousel-block-table prakicu-kota bg-cuaca cerah-berawan-malam\">\n",
      "<div class=\"service-block clearfix\">\n",
      "<h2 class=\"kota\">19:00 WIB</h2>\n",
      "<div class=\"kiri\">\n",
      "<img alt=\"\" src=\"../asset/img/weather_icon/ID/hujan sedang-pm.png\"/>\n",
      "<p>Hujan Sedang</p>\n",
      "</div>\n",
      "<div class=\"kanan\">\n",
      "<h2 class=\"heading-md\">27°C</h2>\n",
      "<p><i class=\"wi wi-raindrop\"></i>90 %</p>\n",
      "<p><i class=\"wi wi-strong-wind\"></i>0 km/jam<br/>CALM <i class=\"wi wi-wind wi-from-calm\"></i></p>\n",
      "</div>\n",
      "</div>\n",
      "</div>\n",
      "</div>\n"
     ]
    }
   ],
   "source": [
    "print(items[0])"
   ]
  },
  {
   "cell_type": "code",
   "execution_count": 65,
   "metadata": {},
   "outputs": [
    {
     "name": "stdout",
     "output_type": "stream",
     "text": [
      "<div class=\"cuaca-flex-child\">\n",
      "<div class=\"carousel-block-table prakicu-kota bg-cuaca cerah-berawan-malam\">\n",
      "<div class=\"service-block clearfix\">\n",
      "<h2 class=\"kota\">19:00 WIB</h2>\n",
      "<div class=\"kiri\">\n",
      "<img alt=\"\" src=\"../asset/img/weather_icon/ID/hujan sedang-pm.png\"/>\n",
      "<p>Hujan Sedang</p>\n",
      "</div>\n",
      "<div class=\"kanan\">\n",
      "<h2 class=\"heading-md\">27°C</h2>\n",
      "<p><i class=\"wi wi-raindrop\"></i>90 %</p>\n",
      "<p><i class=\"wi wi-strong-wind\"></i>0 km/jam<br/>CALM <i class=\"wi wi-wind wi-from-calm\"></i></p>\n",
      "</div>\n",
      "</div>\n",
      "</div>\n",
      "</div>\n"
     ]
    }
   ],
   "source": [
    "print(items[0])"
   ]
  },
  {
   "cell_type": "code",
   "execution_count": 66,
   "metadata": {},
   "outputs": [
    {
     "name": "stdout",
     "output_type": "stream",
     "text": [
      "<h2 class=\"kota\">19:00 WIB</h2>\n"
     ]
    }
   ],
   "source": [
    "times = items[0].find(class_='kota')\n",
    "print(times)"
   ]
  },
  {
   "cell_type": "code",
   "execution_count": 67,
   "metadata": {},
   "outputs": [
    {
     "name": "stdout",
     "output_type": "stream",
     "text": [
      "27°C\n"
     ]
    }
   ],
   "source": [
    "temperature = items[0].find(class_='heading-md').get_text()\n",
    "print(temperature)"
   ]
  },
  {
   "cell_type": "code",
   "execution_count": 68,
   "metadata": {},
   "outputs": [
    {
     "name": "stdout",
     "output_type": "stream",
     "text": [
      "Hujan Sedang\n"
     ]
    }
   ],
   "source": [
    "weather = condition[0].find('p').get_text()\n",
    "print(weather)"
   ]
  },
  {
   "cell_type": "code",
   "execution_count": 69,
   "metadata": {},
   "outputs": [],
   "source": [
    "period_times = [items.find(class_='kota').get_text().replace('\\xa0',' ') for items in items]\n",
    "period_temprature = [items.find(class_='heading-md').get_text() for items in items]\n",
    "period_weather = [condition.find('p').get_text() for condition in condition ]"
   ]
  },
  {
   "cell_type": "code",
   "execution_count": 70,
   "metadata": {},
   "outputs": [
    {
     "name": "stdout",
     "output_type": "stream",
     "text": [
      "['19:00 WIB', '22:00 WIB']\n"
     ]
    }
   ],
   "source": [
    "print(period_times)"
   ]
  },
  {
   "cell_type": "code",
   "execution_count": 71,
   "metadata": {},
   "outputs": [
    {
     "name": "stdout",
     "output_type": "stream",
     "text": [
      "['27°C', '26°C']\n"
     ]
    }
   ],
   "source": [
    "print(period_temprature)"
   ]
  },
  {
   "cell_type": "code",
   "execution_count": 72,
   "metadata": {},
   "outputs": [
    {
     "name": "stdout",
     "output_type": "stream",
     "text": [
      "['Hujan Sedang', 'Berawan']\n"
     ]
    }
   ],
   "source": [
    "print(period_weather)"
   ]
  },
  {
   "cell_type": "code",
   "execution_count": 73,
   "metadata": {},
   "outputs": [],
   "source": [
    "result = pd.DataFrame({\n",
    "    'waktu' : period_times,\n",
    "    'suhu (celcius)' : period_temprature,\n",
    "    'deskripsi' : period_weather,\n",
    "})"
   ]
  },
  {
   "cell_type": "code",
   "execution_count": 74,
   "metadata": {},
   "outputs": [
    {
     "name": "stdout",
     "output_type": "stream",
     "text": [
      "       waktu suhu (celcius)     deskripsi\n",
      "0  19:00 WIB           27°C  Hujan Sedang\n",
      "1  22:00 WIB           26°C       Berawan\n"
     ]
    }
   ],
   "source": [
    "print(result)"
   ]
  },
  {
   "cell_type": "code",
   "execution_count": 75,
   "metadata": {},
   "outputs": [],
   "source": [
    "result.to_csv(result_csv)"
   ]
  },
  {
   "cell_type": "code",
   "execution_count": null,
   "metadata": {},
   "outputs": [],
   "source": []
  }
 ],
 "metadata": {
  "kernelspec": {
   "display_name": "Python 3",
   "language": "python",
   "name": "python3"
  },
  "language_info": {
   "codemirror_mode": {
    "name": "ipython",
    "version": 3
   },
   "file_extension": ".py",
   "mimetype": "text/x-python",
   "name": "python",
   "nbconvert_exporter": "python",
   "pygments_lexer": "ipython3",
   "version": "3.7.6"
  }
 },
 "nbformat": 4,
 "nbformat_minor": 4
}
