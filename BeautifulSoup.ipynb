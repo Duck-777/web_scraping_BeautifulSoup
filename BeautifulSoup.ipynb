{
 "cells": [
  {
   "cell_type": "markdown",
   "metadata": {},
   "source": [
    "# Web Scraping with Python "
   ]
  },
  {
   "cell_type": "markdown",
   "metadata": {},
   "source": [
    "Rendi Dwi Hermawan\n",
    "19 mei 2020\n",
    "Email duck_id@yahoo.com / rendidwih2@gmail.com"
   ]
  },
  {
   "cell_type": "raw",
   "metadata": {},
   "source": [
    "pesan:\n",
    "1.Untuk url kunjugi https://www.bmkg.go.id/cuaca/prakiraan-cuaca-indonesia.bmkg \n",
    "    silahkan pilih provinsi -> nama kota -> lalu salin url ke variabel html\n",
    "    \n",
    "2.contoh web scraping di www.bmkg.go.id mengambil data data seperti:\n",
    "    *waktu\n",
    "    *suhu\n",
    "    *kondisi"
   ]
  },
  {
   "cell_type": "code",
   "execution_count": null,
   "metadata": {},
   "outputs": [],
   "source": [
    "import requests\n",
    "from bs4 import BeautifulSoup"
   ]
  },
  {
   "cell_type": "code",
   "execution_count": null,
   "metadata": {},
   "outputs": [],
   "source": [
    "html = 'link here'      #taruh link di antara tanda kutip ''"
   ]
  },
  {
   "cell_type": "code",
   "execution_count": null,
   "metadata": {},
   "outputs": [],
   "source": [
    "page = requests.get(html)\n",
    "soup = BeautifulSoup(page.content, 'html.parser')\n",
    "place = soup.find(class_='col-md-8 md-margin-bottom-20')\n",
    "week = soup.find(id=\"TabPaneCuaca1\")"
   ]
  },
  {
   "cell_type": "code",
   "execution_count": null,
   "metadata": {},
   "outputs": [],
   "source": [
    "print(week)"
   ]
  },
  {
   "cell_type": "code",
   "execution_count": null,
   "metadata": {},
   "outputs": [],
   "source": [
    "items = week.find_all(class_='cuaca-flex-child')\n",
    "kondisi = week.find_all(class_='kiri')\n"
   ]
  },
  {
   "cell_type": "code",
   "execution_count": null,
   "metadata": {},
   "outputs": [],
   "source": [
    "print(items[0])"
   ]
  },
  {
   "cell_type": "code",
   "execution_count": null,
   "metadata": {},
   "outputs": [],
   "source": [
    "print(items[kondisi])"
   ]
  },
  {
   "cell_type": "code",
   "execution_count": null,
   "metadata": {},
   "outputs": [],
   "source": [
    "times = items[0].find(class_='kota')\n",
    "print(times)"
   ]
  },
  {
   "cell_type": "code",
   "execution_count": null,
   "metadata": {},
   "outputs": [],
   "source": [
    "temperature = items[0].find(class_='heading-md').get_text()\n",
    "print(temperature)"
   ]
  },
  {
   "cell_type": "code",
   "execution_count": null,
   "metadata": {},
   "outputs": [],
   "source": [
    "weather = kondisi[0].find('p').get_text()\n",
    "print(weather)"
   ]
  },
  {
   "cell_type": "code",
   "execution_count": null,
   "metadata": {},
   "outputs": [],
   "source": [
    "period_times = [items.find(class_='kota').get_text().replace('\\xa0',' ') for items in items]\n",
    "period_temprature = [items.find(class_='heading-md').get_text() for items in items]\n",
    "period_weather = [kondisi.find('p').get_text() for kondisi in kondisi ]"
   ]
  },
  {
   "cell_type": "code",
   "execution_count": null,
   "metadata": {},
   "outputs": [],
   "source": [
    "print(period_times)"
   ]
  },
  {
   "cell_type": "code",
   "execution_count": null,
   "metadata": {},
   "outputs": [],
   "source": [
    "print(period_temprature)"
   ]
  },
  {
   "cell_type": "code",
   "execution_count": null,
   "metadata": {},
   "outputs": [],
   "source": [
    "print(period_weather)"
   ]
  },
  {
   "cell_type": "raw",
   "metadata": {},
   "source": []
  },
  {
   "cell_type": "markdown",
   "metadata": {},
   "source": [
    "thanks"
   ]
  }
 ],
 "metadata": {
  "kernelspec": {
   "display_name": "Python 3",
   "language": "python",
   "name": "python3"
  },
  "language_info": {
   "codemirror_mode": {
    "name": "ipython",
    "version": 3
   },
   "file_extension": ".py",
   "mimetype": "text/x-python",
   "name": "python",
   "nbconvert_exporter": "python",
   "pygments_lexer": "ipython3",
   "version": "3.7.6"
  }
 },
 "nbformat": 4,
 "nbformat_minor": 4
}
